{
 "cells": [
  {
   "cell_type": "code",
   "execution_count": 21,
   "metadata": {},
   "outputs": [],
   "source": [
    "import pandas as pd\n",
    "\n",
    "coffee_df=pd.read_csv('coffee.csv')\n",
    "\n",
    "coffee_df # To view entire dataframe, if very large only first 5 and last 5 rows will be shown"
   ]
  },
  {
   "cell_type": "code",
   "execution_count": 23,
   "metadata": {},
   "outputs": [],
   "source": [
    "coffee_df['Coffee Type'] # To view a particular series(a column in dataframe is called a series.)"
   ]
  },
  {
   "cell_type": "code",
   "execution_count": 27,
   "metadata": {},
   "outputs": [],
   "source": [
    "coffee_df.head(7) #To view first 7 rows of the dataframe. Provide the number of rows as argument"
   ]
  },
  {
   "cell_type": "code",
   "execution_count": 29,
   "metadata": {},
   "outputs": [],
   "source": [
    "coffee_df.tail(3) # To view last 3 cell of the dataframe. Just like head() provide no. of rows as argument."
   ]
  },
  {
   "cell_type": "code",
   "execution_count": 31,
   "metadata": {},
   "outputs": [],
   "source": [
    "coffee_df.dtypes # provides data types of each column in the data frame "
   ]
  },
  {
   "cell_type": "code",
   "execution_count": 33,
   "metadata": {},
   "outputs": [],
   "source": [
    "coffee_df.to_excel('coffee.xlsx', sheet_name='coffee', index=False) # To convert a dataframe to excel file"
   ]
  },
  {
   "cell_type": "code",
   "execution_count": 35,
   "metadata": {},
   "outputs": [],
   "source": [
    "coffee_df.info() # To get information about the dataframe"
   ]
  },
  {
   "cell_type": "code",
   "execution_count": 39,
   "metadata": {},
   "outputs": [],
   "source": [
    "coffee_df[['Coffee Type', 'Units Sold']] # To select multiple columns froma dataframe"
   ]
  },
  {
   "cell_type": "code",
   "execution_count": 44,
   "metadata": {},
   "outputs": [],
   "source": [
    "coffee_df[['Coffee Type','Units Sold']].shape # get the number of rows and columns "
   ]
  },
  {
   "cell_type": "code",
   "execution_count": null,
   "metadata": {},
   "outputs": [],
   "source": [
    "espresso=coffee_df[coffee_df['Units Sold']>25] # filtering based on certain conditions\n",
    "espresso"
   ]
  },
  {
   "cell_type": "code",
   "execution_count": 51,
   "metadata": {},
   "outputs": [],
   "source": [
    "coffee_df['Units Sold']>25 # returns rows and wheher they satisfy the condition or not"
   ]
  },
  {
   "cell_type": "code",
   "execution_count": null,
   "metadata": {},
   "outputs": [],
   "source": [
    "espresso25to35=coffee_df[coffee_df['Units Sold'].isin([25,35])] # to get coffee with units sold are 25 or 35\n",
    "espresso25to35"
   ]
  },
  {
   "cell_type": "code",
   "execution_count": null,
   "metadata": {},
   "outputs": [],
   "source": [
    "espresso25to35new=coffee_df[(coffee_df['Units Sold']==25) | (coffee_df['Units Sold']==35)] # same output as above, but this uses an | (or) operator\n",
    "espresso25to35new"
   ]
  },
  {
   "cell_type": "code",
   "execution_count": null,
   "metadata": {},
   "outputs": [],
   "source": [
    "not_null=coffee_df[coffee_df['Units Sold'].notna()] # returns rows that are not null\n",
    "not_null"
   ]
  },
  {
   "cell_type": "code",
   "execution_count": null,
   "metadata": {},
   "outputs": [],
   "source": [
    "coffee_name_and_units=coffee_df.loc[coffee_df['Units Sold']==25,['Coffee Type','Units Sold']] # loc should be used if subsets of both rows and columns are required\n",
    "coffee_name_and_units"
   ]
  },
  {
   "cell_type": "code",
   "execution_count": null,
   "metadata": {},
   "outputs": [],
   "source": [
    "coffee_df.iloc[1:3] # iloc can be used to fetch data using indexes"
   ]
  },
  {
   "cell_type": "code",
   "execution_count": null,
   "metadata": {},
   "outputs": [],
   "source": [
    "coffee_df.iloc[1:3,2]='NA' # iloc can also be used to modify rows\n",
    "coffee_df"
   ]
  },
  {
   "cell_type": "code",
   "execution_count": null,
   "metadata": {},
   "outputs": [],
   "source": [
    "# section reserved for plots"
   ]
  },
  {
   "cell_type": "code",
   "execution_count": null,
   "metadata": {},
   "outputs": [],
   "source": [
    "# create new columns from existing columns\n",
    "air_quality=pd.read_csv('air_quality_no2.csv')\n",
    "air_quality"
   ]
  },
  {
   "cell_type": "code",
   "execution_count": null,
   "metadata": {},
   "outputs": [],
   "source": [
    "air_quality['london_mg_per_cubic']=air_quality['station_london']*1.882 # a new column named 'london_md_per_cubic' is created and its rows are modified accordingly\n",
    "air_quality"
   ]
  },
  {
   "cell_type": "code",
   "execution_count": null,
   "metadata": {},
   "outputs": [],
   "source": [
    "air_quality['ratio_paris_to_antwerp']=air_quality['station_paris']/air_quality['station_antwerp'] # the new column 'ratio_paris_to_antwerp' has ratio of station_paris:station_antwerp\n",
    "air_quality"
   ]
  },
  {
   "cell_type": "code",
   "execution_count": null,
   "metadata": {},
   "outputs": [],
   "source": [
    "air_quality_renamed=air_quality.rename(\n",
    "    columns={\n",
    "        \"station_antwerp\":\"BETR801\",\n",
    "        \"station_paris\":\"FR4014\",\n",
    "        \"station_london\":\"London Westminister\"\n",
    "    }\n",
    ")\n",
    "\n",
    "air_quality_renamed # the columns got renamed as required using rename()"
   ]
  },
  {
   "cell_type": "code",
   "execution_count": null,
   "metadata": {},
   "outputs": [],
   "source": [
    "#calculating summary statistics\n",
    "titanic=pd.read_csv('titanic.csv')\n",
    "titanic"
   ]
  },
  {
   "cell_type": "code",
   "execution_count": null,
   "metadata": {},
   "outputs": [],
   "source": [
    "titanic[['Age','Fare']].median() # to calculate median of age and fare"
   ]
  },
  {
   "cell_type": "code",
   "execution_count": null,
   "metadata": {},
   "outputs": [],
   "source": [
    "titanic[['Age']].describe() # to fetch statistical data of the any column"
   ]
  },
  {
   "cell_type": "code",
   "execution_count": null,
   "metadata": {},
   "outputs": [],
   "source": []
  }
 ],
 "metadata": {
  "kernelspec": {
   "display_name": "Python 3",
   "language": "python",
   "name": "python3"
  },
  "language_info": {
   "codemirror_mode": {
    "name": "ipython",
    "version": 3
   },
   "file_extension": ".py",
   "mimetype": "text/x-python",
   "name": "python",
   "nbconvert_exporter": "python",
   "pygments_lexer": "ipython3",
   "version": "3.12.6"
  }
 },
 "nbformat": 4,
 "nbformat_minor": 2
}
